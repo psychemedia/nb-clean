{
 "cells": [
  {
   "cell_type": "code",
   "execution_count": null,
   "id": "2b84ae3d-a411-433e-8100-0dd6e51fb4b2",
   "metadata": {
    "tags": [
     "example-tag",
     "another-tag"
    ]
   },
   "outputs": [],
   "source": [
    "# Code cell with \"tags\" metadata"
   ]
  },
  {
   "cell_type": "code",
   "execution_count": null,
   "id": "695e1d60-ff2a-4e6a-a102-f65b17901848",
   "metadata": {
    "editable": false,
    "tags": []
   },
   "outputs": [],
   "source": [
    "# Code cell with \"editable\" metadata"
   ]
  },
  {
   "cell_type": "code",
   "execution_count": 1,
   "id": "209eb829-66ab-455d-939f-af0212021022",
   "metadata": {
    "collapsed": true,
    "jupyter": {
     "outputs_hidden": true
    },
    "tags": []
   },
   "outputs": [
    {
     "name": "stdout",
     "output_type": "stream",
     "text": [
      "hello\n"
     ]
    }
   ],
   "source": [
    "# Code cell with \"collapsed\" metadata\n",
    "print(\"hello\")"
   ]
  },
  {
   "cell_type": "code",
   "execution_count": null,
   "id": "cef297ec-1613-4303-b3b3-52de96e99786",
   "metadata": {
    "deletable": false,
    "tags": []
   },
   "outputs": [],
   "source": [
    "# Code cell with \"deletable\" metadata"
   ]
  },
  {
   "cell_type": "code",
   "execution_count": null,
   "id": "130c2c7b-af01-450d-9384-ce4c10eb39fd",
   "metadata": {
    "name": "thisShouldBeAUniqueNameForTheCell",
    "tags": []
   },
   "outputs": [],
   "source": [
    "# Code cell with \"name\" metadata"
   ]
  },
  {
   "cell_type": "code",
   "execution_count": 5,
   "id": "d782ef01-4409-481c-975a-d49e5f09e80e",
   "metadata": {
    "scrolled": true,
    "tags": []
   },
   "outputs": [
    {
     "name": "stdout",
     "output_type": "stream",
     "text": [
      "hello\n",
      "\n",
      "\n",
      "\n",
      "\n",
      "\n",
      "\n",
      "\n",
      "\n",
      "\n",
      "\n",
      "\n",
      "\n",
      "\n",
      "\n"
     ]
    }
   ],
   "source": [
    "# Code cell with \"scrolled\" metadata\n",
    "print(\"hello\\n\\n\\n\\n\\n\\n\\n\\n\\n\\n\\n\\n\\n\\n\")"
   ]
  },
  {
   "cell_type": "code",
   "execution_count": null,
   "id": "d2fd9d09-8b0a-4a19-8094-cc1a55ff359b",
   "metadata": {
    "jupyter": {
     "source_hidden": true
    },
    "tags": []
   },
   "outputs": [],
   "source": [
    "# Code cell with \"jupyter:source_hidden\" metadata"
   ]
  },
  {
   "cell_type": "code",
   "execution_count": 8,
   "id": "4b2b0d93-563c-45da-98af-f45ee6a860bb",
   "metadata": {
    "collapsed": true,
    "jupyter": {
     "outputs_hidden": true
    },
    "tags": []
   },
   "outputs": [
    {
     "name": "stdout",
     "output_type": "stream",
     "text": [
      "hello\n"
     ]
    }
   ],
   "source": [
    "# Code cell with \"jupyter:outputs_hidden\" metadata\n",
    "print(\"hello\")"
   ]
  },
  {
   "cell_type": "markdown",
   "id": "5734e251-2c3d-4e22-8d57-3cd5e0cf43a2",
   "metadata": {
    "tags": [
     "example-tag",
     "another-tag"
    ]
   },
   "source": [
    "Markdown cell with cell tags"
   ]
  },
  {
   "cell_type": "markdown",
   "id": "fb5eabc7-273e-4739-8556-f960dbd8ca08",
   "metadata": {
    "deletable": false,
    "tags": []
   },
   "source": [
    "Non-deletable markdown cell."
   ]
  },
  {
   "cell_type": "markdown",
   "id": "0178703c-61d4-49b4-945d-cf631665996e",
   "metadata": {
    "editable": false,
    "tags": []
   },
   "source": [
    "Non-editable markdown cell."
   ]
  }
 ],
 "metadata": {
  "kernelspec": {
   "display_name": "Python 3 (ipykernel)",
   "language": "python",
   "name": "python3"
  },
  "language_info": {
   "codemirror_mode": {
    "name": "ipython",
    "version": 3
   },
   "file_extension": ".py",
   "mimetype": "text/x-python",
   "name": "python",
   "nbconvert_exporter": "python",
   "pygments_lexer": "ipython3",
   "version": "3.9.12"
  }
 },
 "nbformat": 4,
 "nbformat_minor": 5
}
